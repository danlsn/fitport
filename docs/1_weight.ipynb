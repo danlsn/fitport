{
 "cells": [
  {
   "cell_type": "markdown",
   "metadata": {
    "collapsed": true,
    "pycharm": {
     "name": "#%% md\n"
    }
   },
   "source": [
    "# fitport / weight\n",
    "Making my old Fitbit Data useful again.\n",
    "___"
   ]
  },
  {
   "cell_type": "markdown",
   "metadata": {},
   "source": [
    "## Example Weight Records from Fitbit\n",
    "\n",
    "```json5\n",
    "[{\n",
    "  // Example Weight Record\n",
    "  \"logId\" : 1431993599000,\n",
    "  \"weight\" : 191.8, // weight in pounds\n",
    "  \"bmi\" : 27.77,\n",
    "  \"date\" : \"05/18/15\", // MM/DD/YY\n",
    "  \"time\" : \"23:59:59\"\n",
    "},{\n",
    "  \"logId\" : 1499258640000,\n",
    "  \"weight\" : 193.9,\n",
    "  \"bmi\" : 28.08,\n",
    "  \"fat\" : 24.00200080871582,\n",
    "  \"date\" : \"07/05/17\",\n",
    "  \"time\" : \"12:44:00\",\n",
    "  \"source\" : \"Aria\"\n",
    "},{\n",
    "  \"logId\" : 1499299199000,\n",
    "  \"weight\" : 189.1,\n",
    "  \"bmi\" : 27.39,\n",
    "  \"fat\" : 25.299999237060547,\n",
    "  \"date\" : \"07/05/17\",\n",
    "  \"time\" : \"23:59:59\",\n",
    "  \"source\" : \"API\"\n",
    "}]\n",
    "```\n",
    "**Shortcuts Weight, BMI, Lean Mass, Fat Percentage Health Sample**\n",
    "![Shortcuts Weight Entry](../media/shortcuts-weight-entry.png)\n",
    "![Shortcuts Body Mass Index](../media/shortcuts-bmi-entry.png)\n",
    "![Shortcuts Body Fat Percentage Entry](../media/shortcuts-body-fat-percentage-entry.png)\n",
    "![Shortcuts Lean Body Mass Entry](../media/shortcuts-lean-body-mass-entry.png)\n",
    "\n",
    "```text\n",
    "Date: .date + .time\n",
    "Weight: .weight in pounds\n",
    "BMI: .bmi\n",
    "Body Fat %: .fat in %\n",
    "Lean Body Mass: .weight * ( 1 - .fat )\n",
    "```"
   ]
  },
  {
   "cell_type": "code",
   "execution_count": 3,
   "metadata": {
    "pycharm": {
     "name": "#%%\n"
    }
   },
   "outputs": [
    {
     "ename": "TypeError",
     "evalue": "list indices must be integers or slices, not str",
     "output_type": "error",
     "traceback": [
      "\u001B[0;31m---------------------------------------------------------------------------\u001B[0m",
      "\u001B[0;31mTypeError\u001B[0m                                 Traceback (most recent call last)",
      "\u001B[0;32m/var/folders/wl/9dd36lxd3_v_t5ktl71jd8k80000gn/T/ipykernel_98228/74709121.py\u001B[0m in \u001B[0;36m<module>\u001B[0;34m\u001B[0m\n\u001B[1;32m      4\u001B[0m     \u001B[0mdata\u001B[0m \u001B[0;34m=\u001B[0m \u001B[0mjson\u001B[0m\u001B[0;34m.\u001B[0m\u001B[0mload\u001B[0m\u001B[0;34m(\u001B[0m\u001B[0mf\u001B[0m\u001B[0;34m)\u001B[0m\u001B[0;34m\u001B[0m\u001B[0;34m\u001B[0m\u001B[0m\n\u001B[1;32m      5\u001B[0m \u001B[0;34m\u001B[0m\u001B[0m\n\u001B[0;32m----> 6\u001B[0;31m \u001B[0mprint\u001B[0m\u001B[0;34m(\u001B[0m\u001B[0mdata\u001B[0m\u001B[0;34m[\u001B[0m\u001B[0;34m'logId'\u001B[0m\u001B[0;34m]\u001B[0m\u001B[0;34m)\u001B[0m\u001B[0;34m\u001B[0m\u001B[0;34m\u001B[0m\u001B[0m\n\u001B[0m",
      "\u001B[0;31mTypeError\u001B[0m: list indices must be integers or slices, not str"
     ]
    }
   ],
   "source": [
    "import json\n",
    "\n",
    "with open('../data/user-site-export/weight/weight-2015-05-17.json') as f:\n",
    "    data = json.load(f)\n",
    "\n",
    "print(data['logId'])\n"
   ]
  },
  {
   "cell_type": "code",
   "execution_count": null,
   "metadata": {},
   "outputs": [],
   "source": []
  }
 ],
 "metadata": {
  "kernelspec": {
   "display_name": "PyCharm (IBM Data Analyst Professional Certificate)",
   "language": "python",
   "name": "pycharm-e17c6c44"
  },
  "language_info": {
   "codemirror_mode": {
    "name": "ipython",
    "version": 3
   },
   "file_extension": ".py",
   "mimetype": "text/x-python",
   "name": "python",
   "nbconvert_exporter": "python",
   "pygments_lexer": "ipython3",
   "version": "3.9.7"
  }
 },
 "nbformat": 4,
 "nbformat_minor": 1
}